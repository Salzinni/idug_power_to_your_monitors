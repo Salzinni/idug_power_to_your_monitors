{
 "cells": [
  {
   "cell_type": "markdown",
   "metadata": {},
   "source": [
    "## Ejemplo de grafica boxplot\n",
    "Para este ejemplo, se tomara un archivo csv que tiene informacion sobre el numero de conexiones de 5 aplicaciones diferentes. Cada muestra representa el maximo numero de conexiones realizadas por dia y se recolectaron 50 ejemplos."
   ]
  },
  {
   "cell_type": "code",
   "execution_count": 1,
   "metadata": {
    "scrolled": false
   },
   "outputs": [
    {
     "data": {
      "text/html": [
       "        <script type=\"text/javascript\">\n",
       "        window.PlotlyConfig = {MathJaxConfig: 'local'};\n",
       "        if (window.MathJax) {MathJax.Hub.Config({SVG: {font: \"STIX-Web\"}});}\n",
       "        if (typeof require !== 'undefined') {\n",
       "        require.undef(\"plotly\");\n",
       "        requirejs.config({\n",
       "            paths: {\n",
       "                'plotly': ['https://cdn.plot.ly/plotly-latest.min']\n",
       "            }\n",
       "        });\n",
       "        require(['plotly'], function(Plotly) {\n",
       "            window._Plotly = Plotly;\n",
       "        });\n",
       "        }\n",
       "        </script>\n",
       "        "
      ]
     },
     "metadata": {},
     "output_type": "display_data"
    },
    {
     "data": {
      "text/html": [
       "        <script type=\"text/javascript\">\n",
       "        window.PlotlyConfig = {MathJaxConfig: 'local'};\n",
       "        if (window.MathJax) {MathJax.Hub.Config({SVG: {font: \"STIX-Web\"}});}\n",
       "        if (typeof require !== 'undefined') {\n",
       "        require.undef(\"plotly\");\n",
       "        requirejs.config({\n",
       "            paths: {\n",
       "                'plotly': ['https://cdn.plot.ly/plotly-latest.min']\n",
       "            }\n",
       "        });\n",
       "        require(['plotly'], function(Plotly) {\n",
       "            window._Plotly = Plotly;\n",
       "        });\n",
       "        }\n",
       "        </script>\n",
       "        "
      ]
     },
     "metadata": {},
     "output_type": "display_data"
    },
    {
     "data": {
      "application/vnd.plotly.v1+json": {
       "config": {
        "linkText": "Export to plot.ly",
        "plotlyServerURL": "https://plot.ly",
        "showLink": true
       },
       "data": [
        {
         "boxpoints": "all",
         "line": {
          "width": 1.3
         },
         "marker": {
          "color": "rgba(255, 153, 51, 1.0)"
         },
         "name": "App 1",
         "orientation": "v",
         "type": "box",
         "uid": "f29242c9-9cad-4f34-9db8-9dc345bf134b",
         "y": [
          535,
          350,
          77,
          216,
          521,
          65,
          50,
          475,
          317,
          237,
          378,
          432,
          42,
          20,
          550,
          511,
          261,
          131,
          374,
          45,
          15,
          498,
          335,
          73,
          236,
          399,
          57,
          22,
          476,
          535,
          78,
          342,
          129,
          23,
          11,
          523,
          475,
          359,
          79,
          376,
          12,
          32,
          522,
          415,
          512,
          170
         ]
        },
        {
         "boxpoints": "all",
         "line": {
          "width": 1.3
         },
         "marker": {
          "color": "rgba(55, 128, 191, 1.0)"
         },
         "name": "App 2",
         "orientation": "v",
         "type": "box",
         "uid": "f88d1c06-f04b-48ee-b0ef-665d172c6e87",
         "y": [
          108,
          42,
          109,
          153,
          27,
          163,
          33,
          160,
          112,
          112,
          47,
          150,
          248,
          178,
          51,
          200,
          12,
          240,
          228,
          180,
          40,
          60,
          222,
          187,
          141,
          248,
          221,
          14,
          95,
          224,
          112,
          70,
          87,
          175,
          73,
          236,
          82,
          247,
          226,
          106,
          80,
          110,
          119,
          198,
          215,
          235
         ]
        },
        {
         "boxpoints": "all",
         "line": {
          "width": 1.3
         },
         "marker": {
          "color": "rgba(50, 171, 96, 1.0)"
         },
         "name": "App 3",
         "orientation": "v",
         "type": "box",
         "uid": "1a85cb1e-4214-4303-b500-0bd518a3ea8c",
         "y": [
          150,
          21,
          84,
          23,
          25,
          150,
          62,
          128,
          130,
          145,
          41,
          55,
          20,
          71,
          106,
          30,
          66,
          25,
          19,
          131,
          109,
          111,
          135,
          49,
          112,
          91,
          42,
          92,
          41,
          69,
          142,
          127,
          81,
          61,
          87,
          87,
          18,
          103,
          41,
          105,
          60,
          84,
          7,
          38,
          28,
          41
         ]
        },
        {
         "boxpoints": "all",
         "line": {
          "width": 1.3
         },
         "marker": {
          "color": "rgba(128, 0, 128, 1.0)"
         },
         "name": "App 4",
         "orientation": "v",
         "type": "box",
         "uid": "8caccd9c-7476-4b89-bcf5-8d96b1e018c2",
         "y": [
          762,
          623,
          136,
          167,
          353,
          260,
          654,
          165,
          325,
          334,
          701,
          728,
          700,
          220,
          261,
          523,
          598,
          158,
          174,
          556,
          576,
          423,
          522,
          543,
          144,
          230,
          557,
          384,
          717,
          383,
          212,
          151,
          746,
          798,
          61,
          591,
          464,
          193,
          686,
          752,
          232,
          239,
          224,
          442,
          45,
          102
         ]
        },
        {
         "boxpoints": "all",
         "line": {
          "width": 1.3
         },
         "marker": {
          "color": "rgba(219, 64, 82, 1.0)"
         },
         "name": "App 5",
         "orientation": "v",
         "type": "box",
         "uid": "d81804dd-57e4-4a84-9a13-92f40c2c1616",
         "y": [
          459,
          236,
          694,
          100,
          687,
          341,
          117,
          273,
          394,
          407,
          474,
          414,
          228,
          151,
          221,
          340,
          357,
          150,
          192,
          140,
          545,
          117,
          579,
          496,
          67,
          468,
          444,
          138,
          203,
          676,
          157,
          295,
          122,
          517,
          279,
          143,
          422,
          108,
          148,
          358,
          109,
          171,
          690,
          102,
          208,
          638
         ]
        }
       ],
       "layout": {
        "legend": {
         "bgcolor": "#F5F6F9",
         "font": {
          "color": "#4D5663"
         }
        },
        "paper_bgcolor": "#F5F6F9",
        "plot_bgcolor": "#F5F6F9",
        "title": {
         "font": {
          "color": "#4D5663"
         },
         "text": "Number of connections"
        },
        "xaxis": {
         "gridcolor": "#E1E5ED",
         "showgrid": true,
         "tickfont": {
          "color": "#4D5663"
         },
         "title": {
          "font": {
           "color": "#4D5663"
          },
          "text": "Application"
         },
         "zerolinecolor": "#E1E5ED"
        },
        "yaxis": {
         "gridcolor": "#E1E5ED",
         "showgrid": true,
         "tickfont": {
          "color": "#4D5663"
         },
         "title": {
          "font": {
           "color": "#4D5663"
          },
          "text": "Connections"
         },
         "zerolinecolor": "#E1E5ED"
        }
       }
      },
      "text/html": [
       "<div>\n",
       "        \n",
       "        \n",
       "            <div id=\"3f60f434-de90-44c7-b695-5c8859d30b8a\" class=\"plotly-graph-div\" style=\"height:525px; width:100%;\"></div>\n",
       "            <script type=\"text/javascript\">\n",
       "                require([\"plotly\"], function(Plotly) {\n",
       "                    window.PLOTLYENV=window.PLOTLYENV || {};\n",
       "                    window.PLOTLYENV.BASE_URL='https://plot.ly';\n",
       "                    \n",
       "                if (document.getElementById(\"3f60f434-de90-44c7-b695-5c8859d30b8a\")) {\n",
       "                    Plotly.newPlot(\n",
       "                        '3f60f434-de90-44c7-b695-5c8859d30b8a',\n",
       "                        [{\"boxpoints\": \"all\", \"line\": {\"width\": 1.3}, \"marker\": {\"color\": \"rgba(255, 153, 51, 1.0)\"}, \"name\": \"App 1\", \"orientation\": \"v\", \"type\": \"box\", \"uid\": \"f29242c9-9cad-4f34-9db8-9dc345bf134b\", \"y\": [535, 350, 77, 216, 521, 65, 50, 475, 317, 237, 378, 432, 42, 20, 550, 511, 261, 131, 374, 45, 15, 498, 335, 73, 236, 399, 57, 22, 476, 535, 78, 342, 129, 23, 11, 523, 475, 359, 79, 376, 12, 32, 522, 415, 512, 170]}, {\"boxpoints\": \"all\", \"line\": {\"width\": 1.3}, \"marker\": {\"color\": \"rgba(55, 128, 191, 1.0)\"}, \"name\": \"App 2\", \"orientation\": \"v\", \"type\": \"box\", \"uid\": \"f88d1c06-f04b-48ee-b0ef-665d172c6e87\", \"y\": [108, 42, 109, 153, 27, 163, 33, 160, 112, 112, 47, 150, 248, 178, 51, 200, 12, 240, 228, 180, 40, 60, 222, 187, 141, 248, 221, 14, 95, 224, 112, 70, 87, 175, 73, 236, 82, 247, 226, 106, 80, 110, 119, 198, 215, 235]}, {\"boxpoints\": \"all\", \"line\": {\"width\": 1.3}, \"marker\": {\"color\": \"rgba(50, 171, 96, 1.0)\"}, \"name\": \"App 3\", \"orientation\": \"v\", \"type\": \"box\", \"uid\": \"1a85cb1e-4214-4303-b500-0bd518a3ea8c\", \"y\": [150, 21, 84, 23, 25, 150, 62, 128, 130, 145, 41, 55, 20, 71, 106, 30, 66, 25, 19, 131, 109, 111, 135, 49, 112, 91, 42, 92, 41, 69, 142, 127, 81, 61, 87, 87, 18, 103, 41, 105, 60, 84, 7, 38, 28, 41]}, {\"boxpoints\": \"all\", \"line\": {\"width\": 1.3}, \"marker\": {\"color\": \"rgba(128, 0, 128, 1.0)\"}, \"name\": \"App 4\", \"orientation\": \"v\", \"type\": \"box\", \"uid\": \"8caccd9c-7476-4b89-bcf5-8d96b1e018c2\", \"y\": [762, 623, 136, 167, 353, 260, 654, 165, 325, 334, 701, 728, 700, 220, 261, 523, 598, 158, 174, 556, 576, 423, 522, 543, 144, 230, 557, 384, 717, 383, 212, 151, 746, 798, 61, 591, 464, 193, 686, 752, 232, 239, 224, 442, 45, 102]}, {\"boxpoints\": \"all\", \"line\": {\"width\": 1.3}, \"marker\": {\"color\": \"rgba(219, 64, 82, 1.0)\"}, \"name\": \"App 5\", \"orientation\": \"v\", \"type\": \"box\", \"uid\": \"d81804dd-57e4-4a84-9a13-92f40c2c1616\", \"y\": [459, 236, 694, 100, 687, 341, 117, 273, 394, 407, 474, 414, 228, 151, 221, 340, 357, 150, 192, 140, 545, 117, 579, 496, 67, 468, 444, 138, 203, 676, 157, 295, 122, 517, 279, 143, 422, 108, 148, 358, 109, 171, 690, 102, 208, 638]}],\n",
       "                        {\"legend\": {\"bgcolor\": \"#F5F6F9\", \"font\": {\"color\": \"#4D5663\"}}, \"paper_bgcolor\": \"#F5F6F9\", \"plot_bgcolor\": \"#F5F6F9\", \"title\": {\"font\": {\"color\": \"#4D5663\"}, \"text\": \"Number of connections\"}, \"xaxis\": {\"gridcolor\": \"#E1E5ED\", \"showgrid\": true, \"tickfont\": {\"color\": \"#4D5663\"}, \"title\": {\"font\": {\"color\": \"#4D5663\"}, \"text\": \"Application\"}, \"zerolinecolor\": \"#E1E5ED\"}, \"yaxis\": {\"gridcolor\": \"#E1E5ED\", \"showgrid\": true, \"tickfont\": {\"color\": \"#4D5663\"}, \"title\": {\"font\": {\"color\": \"#4D5663\"}, \"text\": \"Connections\"}, \"zerolinecolor\": \"#E1E5ED\"}},\n",
       "                        {\"showLink\": true, \"linkText\": \"Export to plot.ly\", \"plotlyServerURL\": \"https://plot.ly\", \"responsive\": true}\n",
       "                    ).then(function(){\n",
       "                            \n",
       "var gd = document.getElementById('3f60f434-de90-44c7-b695-5c8859d30b8a');\n",
       "var x = new MutationObserver(function (mutations, observer) {{\n",
       "        var display = window.getComputedStyle(gd).display;\n",
       "        if (!display || display === 'none') {{\n",
       "            console.log([gd, 'removed!']);\n",
       "            Plotly.purge(gd);\n",
       "            observer.disconnect();\n",
       "        }}\n",
       "}});\n",
       "\n",
       "// Listen for the removal of the full notebook cells\n",
       "var notebookContainer = gd.closest('#notebook-container');\n",
       "if (notebookContainer) {{\n",
       "    x.observe(notebookContainer, {childList: true});\n",
       "}}\n",
       "\n",
       "// Listen for the clearing of the current output cell\n",
       "var outputEl = gd.closest('.output');\n",
       "if (outputEl) {{\n",
       "    x.observe(outputEl, {childList: true});\n",
       "}}\n",
       "\n",
       "                        })\n",
       "                };\n",
       "                });\n",
       "            </script>\n",
       "        </div>"
      ]
     },
     "metadata": {},
     "output_type": "display_data"
    }
   ],
   "source": [
    "import pandas as pd\n",
    "import numpy as np\n",
    "import plotly\n",
    "import plotly.graph_objs as go\n",
    "#plotly.offline.init_notebook_mode(connected=True)\n",
    "\n",
    "#Leemos el contenido del archivo\n",
    "app_conn_df = pd.read_csv('App-connections.csv')\n",
    "\n",
    "# Usaremos cufflinks sobre plotly para la grafica\n",
    "import cufflinks as cf\n",
    "\n",
    "cf.set_config_file(offline=True, world_readable=True, theme='pearl')\n",
    "\n",
    "# La grafica solo toma una linea\n",
    "app_conn_df.iplot(kind='box', title='Number of connections', xTitle='Application', yTitle='Connections',\n",
    "                  orientation='v', boxpoints='all')"
   ]
  },
  {
   "cell_type": "code",
   "execution_count": null,
   "metadata": {},
   "outputs": [],
   "source": []
  }
 ],
 "metadata": {
  "kernelspec": {
   "display_name": "Python 3",
   "language": "python",
   "name": "python3"
  },
  "language_info": {
   "codemirror_mode": {
    "name": "ipython",
    "version": 3
   },
   "file_extension": ".py",
   "mimetype": "text/x-python",
   "name": "python",
   "nbconvert_exporter": "python",
   "pygments_lexer": "ipython3",
   "version": "3.7.3"
  }
 },
 "nbformat": 4,
 "nbformat_minor": 2
}
